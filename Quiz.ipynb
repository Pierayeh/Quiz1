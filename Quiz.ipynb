{
 "cells": [
  {
   "cell_type": "markdown",
   "metadata": {
    "colab_type": "text",
    "id": "7-GhmBQML9-M"
   },
   "source": [
    "Welcome to the 7 Gate Academy ML Questionnaire. Start by running the code cells from top to bottom and answer the questions. Please:\n",
    "\n",
    "* **If a question involves coding, finish your response by printing your answer.**\n",
    "* Use the cell below any question to write your answer. You may create additional cells to organize your work if desired.\n",
    "\n",
    "If you are not familiar with tooling used in this questionnaire, feel free to refer to the below videos or other online resources:\n",
    "\n",
    "* [Jupyter Notebook](https://matterhorn.dce.harvard.edu/engage/player/watch.html?id=e15f221c-5275-4f7f-b486-759a7d483bc8) watch from minute 12 until the git part\n",
    "* [Pandas](https://matterhorn.dce.harvard.edu/engage/player/watch.html?id=f7ff1893-fbf7-4909-b44e-12e61a98a677) watch from minute 9 until the scraping part."
   ]
  },
  {
   "cell_type": "code",
   "execution_count": 66,
   "metadata": {
    "colab": {},
    "colab_type": "code",
    "id": "Jz9aFo-5_6TY"
   },
   "outputs": [],
   "source": [
    "import numpy as np\n",
    "import pandas as pd\n",
    "import matplotlib.pyplot as plt"
   ]
  },
  {
   "cell_type": "code",
   "execution_count": 67,
   "metadata": {
    "colab": {},
    "colab_type": "code",
    "id": "APqY3RjcbAaZ"
   },
   "outputs": [],
   "source": [
    "np.random.seed(42)\n",
    "\n",
    "def offset_data(data):\n",
    "    if np.min(data) < 0:\n",
    "        return np.add(data, (np.abs(np.min(data))) + 1.0)\n",
    "    else:\n",
    "        return data\n",
    "\n",
    "height, width, depth = np.random.normal((0., 1000., 100.), (1., 100., 50.), size=(100, 3)).T.tolist()\n",
    "\n",
    "height = offset_data(height)\n",
    "width = offset_data(width)\n",
    "depth = offset_data(depth)"
   ]
  },
  {
   "cell_type": "markdown",
   "metadata": {
    "colab_type": "text",
    "id": "l-tIU9yIfa9O"
   },
   "source": [
    "## Basic Python \n",
    "\n",
    "**Question 1.** Calculate the average of \"height\" in the above data."
   ]
  },
  {
   "cell_type": "code",
   "execution_count": 68,
   "metadata": {
    "colab": {},
    "colab_type": "code",
    "id": "XErqve9uhcCo"
   },
   "outputs": [
    {
     "name": "stdout",
     "output_type": "stream",
     "text": [
      "[3.44880195 4.47511766 4.53130062 3.49464784 3.19405007 2.38980027\n",
      " 2.04406372 2.7263115  2.40770507 3.32778582 2.35038119 1.89437687\n",
      " 3.16095139 3.14894904 2.83643952 2.23224359 3.29570609 2.56700552\n",
      " 3.98308732 2.64287542 2.47291356 1.75588118 2.88007768 2.30696804\n",
      " 2.91626176 3.7739903  3.04384858 3.30920037 2.1435942  3.28083891\n",
      " 3.04916535 2.62442565 3.24820808 2.71750067 2.60937328 3.35613866\n",
      " 3.20963819 2.92557392 2.75972683 1.78340976 3.74311975 1.55023674\n",
      " 1.96155147 2.44861215 1.88978409 4.5020222  3.76560502 4.25923055\n",
      " 3.21197059 1.63163119 3.20258065 3.1843415  4.81786231 3.60864141\n",
      " 4.11068338 3.36486873 2.70669968 2.13627751 3.2287786  4.40562188\n",
      " 3.57775515 3.43456021 3.42532542 1.43724057 3.16618154 3.33740518\n",
      " 3.01029652 3.51287233 1.57441843 3.46587375 3.52297831 3.60347905\n",
      " 2.17926258 3.03396194 3.63834799 4.0410384  2.23678409 3.16854639\n",
      " 5.09603189 3.13854211 2.15956706 3.81784299 2.47714249 3.35706951\n",
      " 5.074244   2.46785373 3.39590723 2.89256244 2.69951965 1.52194642\n",
      " 4.39336109 2.96232086 3.1511475  2.5667742  4.53810462 1.\n",
      " 3.23307967 2.45908686 3.30910329 3.25938732]\n",
      "[ 986.17356988  976.58466253 1076.74347292  953.65823072  808.67197553\n",
      "  898.71688797  858.76962987 1006.75282047 1011.09225897  939.93613101\n",
      " 1185.22781845 1082.25449121  804.03298761 1073.846658    969.88963044\n",
      "  953.9361229   823.69598446  932.30779997 1093.12801191 1033.12634314\n",
      "  981.43410233 1081.25258224 1100.35328979 1036.13956055 1156.46436558\n",
      " 1008.70470682  801.24310854 1147.78940447  949.82429564  947.02397962\n",
      " 1096.86449905  960.78918469 1026.10552722  858.46292579  919.77227308\n",
      " 1188.61859012  992.55540842 1006.02302099 1030.15473423 1114.28228145\n",
      "  909.06125452 1058.68570938  943.37022704  844.93365689 1047.35924306\n",
      "  921.67467077  876.91356836  839.25167654 1078.18228718 1052.19415656\n",
      " 1034.64482095 1029.30724733 1047.38329209  902.53183298  917.93176816\n",
      " 1082.206016    924.62638356  992.28982906 1082.7183249   973.53431668\n",
      "  914.28424436  977.65372147  992.71710873  955.34850479  875.42612213\n",
      "  911.61425638  885.70297022 1108.30512432  906.21749601 1051.50476863\n",
      " 1113.55656402  968.47307554  976.31813933 1231.46585667  838.72841288\n",
      " 1006.42800191 1067.95977489 1004.55718399 1063.39190223  933.82135352\n",
      "  988.52635585  879.97035929  934.66707674  873.91160457 1103.24652606\n",
      " 1126.69111492 1077.46340534  675.87326599  875.2216818   955.99555133\n",
      "  856.41378488  901.8491349   939.97831228 1011.35173453  876.21845012\n",
      "  984.8214905   937.73004802  941.06352431  930.70904047 1081.28621188]\n",
      "[164.37168211 120.28040736 108.51353591 108.70076753  45.74136358\n",
      " 147.69962183 205.26969365  60.74984589  74.43757633 117.40256771\n",
      " 131.31239397  70.94507271  65.57795276 140.55566926  58.06115569\n",
      " 184.84336652 148.19145367 162.57106965  90.02637904 180.76451156\n",
      "  76.6705065  199.79925663 150.06905646 208.88908353   1.\n",
      " 117.03688768 121.00366081 106.07374429 177.75736109 157.65062686\n",
      "  96.88460051  58.8115078  132.24292804 110.95498907 123.92296962\n",
      " 140.71614585  36.04869444 255.14936083 130.25166672 169.58390684\n",
      " 202.12697075 241.51003649 136.96982346 135.41540394  86.01604349\n",
      " 115.88417939 143.36025193 141.21894813  70.13971966 146.83648887\n",
      "  97.98601913  96.2696843   72.42208034 171.34148539 180.15606167\n",
      " 226.82690434  87.51153372 149.04485395 132.6373498  267.99571353\n",
      "  78.4426303  167.68727991  89.6475693  174.80719492 140.6463015\n",
      " 139.6735105  149.87662322 184.67735781 157.73901856 324.62382974\n",
      " 179.68734338 169.93571623 107.71907781  38.62399557 108.39066192\n",
      "  78.10001631  95.46892362  99.40723782  30.73012587 174.60892194\n",
      " 157.23661915 115.26219341 220.25996722 177.88035256  56.01875691\n",
      "  96.60378192  85.64073163  80.76787314 213.6078204  138.52428407\n",
      " 190.14544281 155.09242892 135.47735945 165.09378893 238.63892394\n",
      " 161.40311553 121.58114269 174.46736006 176.96724898 163.4686973 ]\n",
      "3.0438537761591427\n",
      "135.72833817833373\n",
      "981.6766686642706\n"
     ]
    }
   ],
   "source": [
    "width=np.asarray(width)\n",
    "print(height)\n",
    "print(width)\n",
    "print(depth)\n",
    "print(height.mean())\n",
    "print(depth.mean())\n",
    "print(width.mean())"
   ]
  },
  {
   "cell_type": "markdown",
   "metadata": {
    "colab_type": "text",
    "id": "Wo8mfcd175_1"
   },
   "source": [
    "**Question 2.** Create a Data Frame in Pandas from the data that was provided in the beginning of the document and have `height`, `width` and `depth` as its headers."
   ]
  },
  {
   "cell_type": "code",
   "execution_count": 69,
   "metadata": {
    "colab": {},
    "colab_type": "code",
    "id": "2BYAXY6_Fhjd"
   },
   "outputs": [
    {
     "name": "stdout",
     "output_type": "stream",
     "text": [
      "         DEPTH    HEIGHT        WIDTH\n",
      "0   164.371682  3.448802   986.173570\n",
      "1   120.280407  4.475118   976.584663\n",
      "2   108.513536  4.531301  1076.743473\n",
      "3   108.700768  3.494648   953.658231\n",
      "4    45.741364  3.194050   808.671976\n",
      "5   147.699622  2.389800   898.716888\n",
      "6   205.269694  2.044064   858.769630\n",
      "7    60.749846  2.726311  1006.752820\n",
      "8    74.437576  2.407705  1011.092259\n",
      "9   117.402568  3.327786   939.936131\n",
      "10  131.312394  2.350381  1185.227818\n",
      "11   70.945073  1.894377  1082.254491\n",
      "12   65.577953  3.160951   804.032988\n",
      "13  140.555669  3.148949  1073.846658\n",
      "14   58.061156  2.836440   969.889630\n",
      "15  184.843367  2.232244   953.936123\n",
      "16  148.191454  3.295706   823.695984\n",
      "17  162.571070  2.567006   932.307800\n",
      "18   90.026379  3.983087  1093.128012\n",
      "19  180.764512  2.642875  1033.126343\n",
      "20   76.670507  2.472914   981.434102\n",
      "21  199.799257  1.755881  1081.252582\n",
      "22  150.069056  2.880078  1100.353290\n",
      "23  208.889084  2.306968  1036.139561\n",
      "24    1.000000  2.916262  1156.464366\n",
      "25  117.036888  3.773990  1008.704707\n",
      "26  121.003661  3.043849   801.243109\n",
      "27  106.073744  3.309200  1147.789404\n",
      "28  177.757361  2.143594   949.824296\n",
      "29  157.650627  3.280839   947.023980\n",
      "..         ...       ...          ...\n",
      "70  179.687343  3.522978  1113.556564\n",
      "71  169.935716  3.603479   968.473076\n",
      "72  107.719078  2.179263   976.318139\n",
      "73   38.623996  3.033962  1231.465857\n",
      "74  108.390662  3.638348   838.728413\n",
      "75   78.100016  4.041038  1006.428002\n",
      "76   95.468924  2.236784  1067.959775\n",
      "77   99.407238  3.168546  1004.557184\n",
      "78   30.730126  5.096032  1063.391902\n",
      "79  174.608922  3.138542   933.821354\n",
      "80  157.236619  2.159567   988.526356\n",
      "81  115.262193  3.817843   879.970359\n",
      "82  220.259967  2.477142   934.667077\n",
      "83  177.880353  3.357070   873.911605\n",
      "84   56.018757  5.074244  1103.246526\n",
      "85   96.603782  2.467854  1126.691115\n",
      "86   85.640732  3.395907  1077.463405\n",
      "87   80.767873  2.892562   675.873266\n",
      "88  213.607820  2.699520   875.221682\n",
      "89  138.524284  1.521946   955.995551\n",
      "90  190.145443  4.393361   856.413785\n",
      "91  155.092429  2.962321   901.849135\n",
      "92  135.477359  3.151147   939.978312\n",
      "93  165.093789  2.566774  1011.351735\n",
      "94  238.638924  4.538105   876.218450\n",
      "95  161.403116  1.000000   984.821490\n",
      "96  121.581143  3.233080   937.730048\n",
      "97  174.467360  2.459087   941.063524\n",
      "98  176.967249  3.309103   930.709040\n",
      "99  163.468697  3.259387  1081.286212\n",
      "\n",
      "[100 rows x 3 columns]\n"
     ]
    }
   ],
   "source": [
    "dataset = pd.DataFrame({'HEIGHT': height, 'WIDTH':width, 'DEPTH':depth})\n",
    "print(dataset)"
   ]
  },
  {
   "cell_type": "markdown",
   "metadata": {
    "colab_type": "text",
    "id": "mKkHds62Depx"
   },
   "source": [
    "**Question 3.** Find the rows with `heights` that are greater than the average `height` while their `widths` are less than the average `width`. Print the `depth` values of these rows sorted ascendingly."
   ]
  },
  {
   "cell_type": "code",
   "execution_count": 70,
   "metadata": {
    "colab": {},
    "colab_type": "code",
    "id": "LfieC9h_DeJe"
   },
   "outputs": [
    {
     "name": "stdout",
     "output_type": "stream",
     "text": [
      "         DEPTH\n",
      "4    45.741364\n",
      "12   65.577953\n",
      "60   78.442630\n",
      "74  108.390662\n",
      "3   108.700768\n",
      "81  115.262193\n",
      "45  115.884179\n",
      "9   117.402568\n",
      "1   120.280407\n",
      "96  121.581143\n",
      "92  135.477359\n",
      "65  139.673511\n",
      "64  140.646301\n",
      "47  141.218948\n",
      "46  143.360252\n",
      "16  148.191454\n",
      "29  157.650627\n",
      "61  167.687280\n",
      "71  169.935716\n",
      "53  171.341485\n",
      "79  174.608922\n",
      "98  176.967249\n",
      "83  177.880353\n",
      "54  180.156062\n",
      "90  190.145443\n",
      "40  202.126971\n",
      "94  238.638924\n",
      "59  267.995714\n"
     ]
    }
   ],
   "source": [
    "special_depth=dataset.loc[(dataset['HEIGHT']> height.mean()) & (dataset['WIDTH']< width.mean()), ['DEPTH']]\n",
    "print(special_depth.sort_values('DEPTH', ascending=True))\n"
   ]
  },
  {
   "cell_type": "markdown",
   "metadata": {
    "colab_type": "text",
    "id": "f5L3AgPSKrEe"
   },
   "source": [
    "**Question 4.** Create two new columns in the `data` dataframe, based on the previous question's condition. If a row has a higher than average `height` and a lower than average `width`, the new column, called `thickness_class`, should receive a value of \"thin\". Otherwise it should receive a value of \"thick\". If a row has a `thickness_class` of \"thin\", the other new column, called `thickness_ratio` should receive a value of `height` over `width`. If `thickness class` is \"thick\", `thickness_ratio` should receive a value of `width` over `height`. "
   ]
  },
  {
   "cell_type": "code",
   "execution_count": 71,
   "metadata": {
    "colab": {},
    "colab_type": "code",
    "id": "Oh33pVVSMf9f"
   },
   "outputs": [
    {
     "name": "stdout",
     "output_type": "stream",
     "text": [
      "         DEPTH    HEIGHT        WIDTH thickness_class  thicknes_ratio\n",
      "24    1.000000  2.916262  1156.464366            thin      396.557120\n",
      "78   30.730126  5.096032  1063.391902            thin      208.670575\n",
      "36   36.048694  3.209638   992.555408            thin      309.242148\n",
      "73   38.623996  3.033962  1231.465857            thin      405.893641\n",
      "4    45.741364  3.194050   808.671976           thick        0.003950\n",
      "84   56.018757  5.074244  1103.246526            thin      217.420866\n",
      "14   58.061156  2.836440   969.889630            thin      341.939119\n",
      "31   58.811508  2.624426   960.789185            thin      366.095029\n",
      "7    60.749846  2.726311  1006.752820            thin      369.272851\n",
      "12   65.577953  3.160951   804.032988           thick        0.003931\n",
      "48   70.139720  3.211971  1078.182287            thin      335.676263\n",
      "11   70.945073  1.894377  1082.254491            thin      571.298408\n",
      "52   72.422080  4.817862  1047.383292            thin      217.395854\n",
      "8    74.437576  2.407705  1011.092259            thin      419.940245\n",
      "20   76.670507  2.472914   981.434102            thin      396.873598\n",
      "75   78.100016  4.041038  1006.428002            thin      249.051829\n",
      "60   78.442630  3.577755   914.284244           thick        0.003913\n",
      "87   80.767873  2.892562   675.873266            thin      233.659006\n",
      "86   85.640732  3.395907  1077.463405            thin      317.282933\n",
      "44   86.016043  1.889784  1047.359243            thin      554.221644\n",
      "56   87.511534  2.706700   924.626384            thin      341.606566\n",
      "62   89.647569  3.425325   992.717109            thin      289.816875\n",
      "18   90.026379  3.983087  1093.128012            thin      274.442392\n",
      "76   95.468924  2.236784  1067.959775            thin      477.453224\n",
      "51   96.269684  3.184341  1029.307247            thin      323.240220\n",
      "85   96.603782  2.467854  1126.691115            thin      456.546959\n",
      "30   96.884601  3.049165  1096.864499            thin      359.726146\n",
      "50   97.986019  3.202581  1034.644821            thin      323.065969\n",
      "77   99.407238  3.168546  1004.557184            thin      317.040390\n",
      "27  106.073744  3.309200  1147.789404            thin      346.847962\n",
      "..         ...       ...          ...             ...             ...\n",
      "0   164.371682  3.448802   986.173570            thin      285.946709\n",
      "93  165.093789  2.566774  1011.351735            thin      394.016635\n",
      "61  167.687280  3.434560   977.653721           thick        0.003513\n",
      "39  169.583907  1.783410  1114.282281            thin      624.804409\n",
      "71  169.935716  3.603479   968.473076           thick        0.003721\n",
      "53  171.341485  3.608641   902.531833           thick        0.003998\n",
      "97  174.467360  2.459087   941.063524            thin      382.688199\n",
      "79  174.608922  3.138542   933.821354           thick        0.003361\n",
      "63  174.807195  1.437241   955.348505            thin      664.710224\n",
      "98  176.967249  3.309103   930.709040           thick        0.003555\n",
      "28  177.757361  2.143594   949.824296            thin      443.098930\n",
      "83  177.880353  3.357070   873.911605           thick        0.003841\n",
      "70  179.687343  3.522978  1113.556564            thin      316.083855\n",
      "54  180.156062  4.110683   917.931768           thick        0.004478\n",
      "19  180.764512  2.642875  1033.126343            thin      390.909966\n",
      "67  184.677358  3.512872  1108.305124            thin      315.498265\n",
      "15  184.843367  2.232244   953.936123            thin      427.344098\n",
      "90  190.145443  4.393361   856.413785           thick        0.005130\n",
      "21  199.799257  1.755881  1081.252582            thin      615.789153\n",
      "40  202.126971  3.743120   909.061255           thick        0.004118\n",
      "6   205.269694  2.044064   858.769630            thin      420.128600\n",
      "23  208.889084  2.306968  1036.139561            thin      449.134769\n",
      "88  213.607820  2.699520   875.221682            thin      324.213859\n",
      "82  220.259967  2.477142   934.667077            thin      377.316638\n",
      "55  226.826904  3.364869  1082.206016            thin      321.619089\n",
      "94  238.638924  4.538105   876.218450           thick        0.005179\n",
      "41  241.510036  1.550237  1058.685709            thin      682.918734\n",
      "37  255.149361  2.925574  1006.023021            thin      343.872022\n",
      "59  267.995714  4.405622   973.534317           thick        0.004525\n",
      "69  324.623830  3.465874  1051.504769            thin      303.388076\n",
      "\n",
      "[100 rows x 5 columns]\n"
     ]
    }
   ],
   "source": [
    "dataset['thickness_class']=np.where((dataset['HEIGHT']>height.mean())&(dataset['WIDTH']<width.mean()), 'thick', 'thin')\n",
    "dataset['thicknes_ratio']=np.where(dataset['thickness_class']=='thick', dataset['HEIGHT']/dataset['WIDTH'],dataset['WIDTH']/dataset['HEIGHT'])\n",
    "print(dataset.sort_values('DEPTH', ascending=True))\n",
    "\n",
    "\n",
    "\n",
    "\n",
    "\n"
   ]
  },
  {
   "cell_type": "markdown",
   "metadata": {
    "colab_type": "text",
    "id": "ysDJGUf7ooZQ"
   },
   "source": [
    "## Data & Functions"
   ]
  },
  {
   "cell_type": "markdown",
   "metadata": {
    "colab_type": "text",
    "id": "7Ptcm8qUpvta"
   },
   "source": [
    "**Question 5.** A dictionary is provided below in which data for a number of `clients` is stored. Each client might have a number of `children` which are instances of `client` themselves. Write a function to flatten the nested dictionary giving each `client` a new key `chlid_of` which has the name of the parent client, or `None` if there is none."
   ]
  },
  {
   "cell_type": "code",
   "execution_count": 72,
   "metadata": {
    "colab": {
     "base_uri": "https://localhost:8080/",
     "height": 54
    },
    "colab_type": "code",
    "id": "2SQUEfMPd__s",
    "outputId": "e12a066f-78f2-475a-d97b-bd1e418eea8c"
   },
   "outputs": [
    {
     "data": {
      "text/plain": [
       "\"\\nOutput should look like:\\n{'client0': {'age': 45, 'child_of': None, 'name': 'alex'},\\n 'client1': {'age': 12, 'child_of': 'client0', 'name': 'susan'},\\n 'client2': {'age': 45, 'child_of': None, 'name': 'mary'},\\n 'client3': {'age': 35, 'child_of': 'client2', 'name': 'susan'},\\n 'client4': {'age': 5, 'child_of': 'client3', 'name': 'stacy'},\\n 'client5': {'age': 25, 'child_of': None, 'name': 'grace'}}\\n\\n\""
      ]
     },
     "execution_count": 72,
     "metadata": {},
     "output_type": "execute_result"
    }
   ],
   "source": [
    "clients = {\n",
    "    'client0': {\n",
    "        'name': 'alex',\n",
    "        'age': 45,\n",
    "        'children': {\n",
    "            'client1': {\n",
    "                'name': 'susan',\n",
    "                'age': 12\n",
    "            }\n",
    "        },\n",
    "    },\n",
    "    'client2': {\n",
    "        'name': 'mary',\n",
    "        'age': 45,\n",
    "        'children': {\n",
    "            'client3': {\n",
    "                'name': 'susan',\n",
    "                'age': 35,\n",
    "                'children': {\n",
    "                    'client4': {\n",
    "                        'name': 'stacy',\n",
    "                        'age': 5\n",
    "                    }\n",
    "            },\n",
    "        }\n",
    "                    }, \n",
    "    },\n",
    "    'client5': {\n",
    "        'name': 'grace',\n",
    "        'age': 25\n",
    "    }\n",
    "}\n",
    "\n",
    "\n",
    "\"\"\"\n",
    "Output should look like:\n",
    "{'client0': {'age': 45, 'child_of': None, 'name': 'alex'},\n",
    " 'client1': {'age': 12, 'child_of': 'client0', 'name': 'susan'},\n",
    " 'client2': {'age': 45, 'child_of': None, 'name': 'mary'},\n",
    " 'client3': {'age': 35, 'child_of': 'client2', 'name': 'susan'},\n",
    " 'client4': {'age': 5, 'child_of': 'client3', 'name': 'stacy'},\n",
    " 'client5': {'age': 25, 'child_of': None, 'name': 'grace'}}\n",
    "\n",
    "\"\"\"\n"
   ]
  },
  {
   "cell_type": "code",
   "execution_count": 73,
   "metadata": {
    "colab": {},
    "colab_type": "code",
    "id": "XMh-JNaoi_2c"
   },
   "outputs": [
    {
     "name": "stdout",
     "output_type": "stream",
     "text": [
      "                                            client0  \\\n",
      "age                                              45   \n",
      "children  {'client1': {'name': 'susan', 'age': 12}}   \n",
      "name                                           alex   \n",
      "\n",
      "                                                    client2 client5  \n",
      "age                                                      45      25  \n",
      "children  {'client3': {'name': 'susan', 'age': 35, 'chil...     NaN  \n",
      "name                                                   mary   grace  \n"
     ]
    }
   ],
   "source": [
    "D_F=pd.DataFrame(clients)\n",
    "print(D_F)"
   ]
  },
  {
   "cell_type": "markdown",
   "metadata": {
    "colab_type": "text",
    "id": "rx_cD00FeYQe"
   },
   "source": [
    "## Probabilities"
   ]
  },
  {
   "cell_type": "markdown",
   "metadata": {
    "colab_type": "text",
    "id": "Nlio_hXmdKTy"
   },
   "source": [
    "Meetings with your manager always go overtime, but always ends within 15 minutes after the scheduled end time.\n",
    "\n",
    "If $X$ is the difference between the actual meeting end time and the scheduled meeting end time, the probabilty density distribution of $X$ can be expressed as follows: \n",
    "\n",
    "$$\n",
    "f(x) = \\left\\{ \\begin{array}{ll}\n",
    "   \\frac{x}{75}, &\\mbox{$0<x \\le 10$} \\\\\n",
    "  \\frac{1}{75}(30 - 2x), &\\mbox{$10<x \\le 15$}\n",
    "       \\end{array} \\right.\n",
    "$$"
   ]
  },
  {
   "cell_type": "markdown",
   "metadata": {
    "colab_type": "text",
    "id": "PVWtbln1Jlk4"
   },
   "source": []
  },
  {
   "cell_type": "markdown",
   "metadata": {
    "colab_type": "text",
    "id": "yK6vOp6owmen"
   },
   "source": [
    "**Question 6.** Draw the above probability density distribution (put the picture below. You can draw by hand or use a library like Matplotlib)\n",
    "\n",
    "\n"
   ]
  },
  {
   "cell_type": "code",
   "execution_count": 76,
   "metadata": {},
   "outputs": [
    {
     "data": {
      "text/plain": [
       "[<matplotlib.lines.Line2D at 0x115af27f0>]"
      ]
     },
     "execution_count": 76,
     "metadata": {},
     "output_type": "execute_result"
    },
    {
     "data": {
      "image/png": "[encoded data removed]",
      "text/plain": [
       "<matplotlib.figure.Figure at 0x115af2828>"
      ]
     },
     "metadata": {},
     "output_type": "display_data"
    }
   ],
   "source": [
    "x1=np.linspace(0, 10, 100)\n",
    "y1=x1/75\n",
    "x2=np.linspace(10, 15, 100)\n",
    "y2=(30-2*x2)/75\n",
    "plt.plot(x1,y1,'r')\n",
    "plt.plot(x2,y2,'r')"
   ]
  },
  {
   "cell_type": "markdown",
   "metadata": {
    "colab_type": "text",
    "id": "h1DO32tuwspg"
   },
   "source": [
    "**Question 7.** What is the probability of your meeting ending within 5 minutes after the scheduled meeting end time? Explain how you determined this.\n",
    "\n"
   ]
  },
  {
   "cell_type": "code",
   "execution_count": 77,
   "metadata": {
    "colab": {},
    "colab_type": "code",
    "id": "IEqNBrt3ewCL"
   },
   "outputs": [
    {
     "name": "stdout",
     "output_type": "stream",
     "text": [
      "0.16666666666666669\n"
     ]
    }
   ],
   "source": [
    "from scipy.integrate import quad\n",
    "def integrand(x):\n",
    "    return x/75\n",
    "ans_5, err = quad (integrand, 0, 5)\n",
    "print(ans_5)\n"
   ]
  },
  {
   "cell_type": "markdown",
   "metadata": {
    "colab_type": "text",
    "id": "2k7lWchzwvlO"
   },
   "source": [
    "**Question 8.** What is the probability of your meeting ending exactly 10 minutes after the scheduled meeting end time? Explain how you determined this.\n"
   ]
  },
  {
   "cell_type": "code",
   "execution_count": 78,
   "metadata": {
    "colab": {},
    "colab_type": "code",
    "id": "cr7vwgxme_FA"
   },
   "outputs": [
    {
     "name": "stdout",
     "output_type": "stream",
     "text": [
      "0.6666666666666667\n"
     ]
    }
   ],
   "source": [
    "def integrand(x):\n",
    "    return x/75\n",
    "ans_10, err = quad (integrand, 0, 10)\n",
    "print(ans_10)\n"
   ]
  },
  {
   "cell_type": "markdown",
   "metadata": {
    "colab_type": "text",
    "id": "crVWWZX7ww5r"
   },
   "source": [
    "**Question 9.** What is the probability of your meeting ending between 5 minutes and 15 minutes after the scheduled meeting end time? Explain how you determined this."
   ]
  },
  {
   "cell_type": "code",
   "execution_count": 79,
   "metadata": {
    "colab": {},
    "colab_type": "code",
    "id": "AmRHu3oWfQxQ"
   },
   "outputs": [
    {
     "name": "stdout",
     "output_type": "stream",
     "text": [
      "0.8333333333333335\n"
     ]
    }
   ],
   "source": [
    "def integrand(x):\n",
    "    while 0<x<=10:\n",
    "        return x/75\n",
    "    while 10<x<=15:\n",
    "        return (30-2*x)/75\n",
    "ans_5_15, err = quad (integrand, 5, 15)\n",
    "print(ans_5_15)"
   ]
  },
  {
   "cell_type": "markdown",
   "metadata": {
    "colab_type": "text",
    "id": "QbIqrNsfwyMv"
   },
   "source": [
    "**Question 10.** On average by how many minutes does your meeting go over time? Explain how you determined this."
   ]
  },
  {
   "cell_type": "code",
   "execution_count": 296,
   "metadata": {
    "colab": {},
    "colab_type": "code",
    "id": "dAW_5iplfTwp"
   },
   "outputs": [
    {
     "name": "stdout",
     "output_type": "stream",
     "text": [
      "8.333333333333334\n"
     ]
    }
   ],
   "source": [
    "def integrand(x):\n",
    "    while 0<x<=10:\n",
    "        return x**2/75\n",
    "    while 10<x<=15:\n",
    "        return (30*x-2*x**2)/75\n",
    "ave, err=quad(integrand, 0, 15)\n",
    "print(ave)"
   ]
  },
  {
   "cell_type": "markdown",
   "metadata": {
    "colab_type": "text",
    "id": "3U2DqsVmfpBL"
   },
   "source": [
    "##Analysis"
   ]
  },
  {
   "cell_type": "markdown",
   "metadata": {
    "colab_type": "text",
    "id": "TdCPowbiLn6b"
   },
   "source": [
    "### A good fit\n",
    "\n",
    "The plot below is given to you in which the red line is the linear regression of the blue dots."
   ]
  },
  {
   "cell_type": "code",
   "execution_count": 80,
   "metadata": {
    "colab": {
     "base_uri": "https://localhost:8080/",
     "height": 269
    },
    "colab_type": "code",
    "id": "tq4pwxVPGU6e",
    "outputId": "67995afb-f462-4f8e-8f1e-7a31754b3518"
   },
   "outputs": [
    {
     "data": {
      "image/png": "[encoded data removed]",
      "text/plain": [
       "<matplotlib.figure.Figure at 0x1516d3b2b0>"
      ]
     },
     "metadata": {},
     "output_type": "display_data"
    }
   ],
   "source": [
    "x_vals = np.linspace(1, 50, 100)\n",
    "data = np.array([(x, np.random.normal(5*x**1.4, x*1.8)) for x in x_vals])\n",
    "\n",
    "plt.plot(data[:,0], data[:,1], 'ob')\n",
    "plt.plot(x_vals, 19*x_vals, '-r')\n",
    "plt.show()"
   ]
  },
  {
   "cell_type": "markdown",
   "metadata": {
    "colab_type": "text",
    "id": "dPQSpVB5gOR7"
   },
   "source": [
    "**Question 11.** is it a good or bad idea to fit a linear regression line? \n",
    "If it's a good idea explain why? If not, do you have a way of improving this regression?"
   ]
  },
  {
   "cell_type": "code",
   "execution_count": null,
   "metadata": {
    "colab": {},
    "colab_type": "code",
    "id": "Z-KkSalwgoIZ"
   },
   "outputs": [],
   "source": [
    "## It may look initially that a regression line could be a good option for fitting the data in the graph above. \n",
    "## However, looking more carefully the regression line consistently over estimated and underestimated the data\n",
    "## at particular regions wich is not good. Also by plotting the residuals, a good fit should show residuals that\n",
    "# are randomely distributed around zero. For this even without plotting the residual I can say that it won'y show \n",
    "# a random distribution around zero. \n",
    "# To improve the fit we can add hight order terms to the regression model.  \n",
    "\n",
    "\n",
    "\n",
    "\n",
    "\n",
    "\n",
    "\n"
   ]
  },
  {
   "cell_type": "markdown",
   "metadata": {
    "colab_type": "text",
    "id": "U1T2Bn1ndKhH"
   },
   "source": [
    "###A Rare Condition\n",
    "\n",
    "You decide to develop your mobile app. The app detects a rare skin condition by simply taking a photo. 0.5% of the population has this condition. 95% of the time your app detects the condition in a person who actually has the condition(in other words, given a patient has the condition and gets scanned, your app will detect  it 95% of the time). 2% of patients who don't have the condition, gets misclassified as having the condition by the app. (hint: you can use Bayes Theorem)"
   ]
  },
  {
   "cell_type": "markdown",
   "metadata": {
    "colab_type": "text",
    "id": "X0CgWk-de9bT"
   },
   "source": [
    "**Question 12.** What is the probability of a person who gets tested by your app, to receive a negative result (in other words, what is the probability of the app saying a patient has the condition)?"
   ]
  },
  {
   "cell_type": "code",
   "execution_count": 81,
   "metadata": {
    "colab": {},
    "colab_type": "code",
    "id": "4fA45Qr6fgrF"
   },
   "outputs": [
    {
     "data": {
      "text/plain": [
       "0.8073022312373225"
      ]
     },
     "execution_count": 81,
     "metadata": {},
     "output_type": "execute_result"
    }
   ],
   "source": [
    "#the wording in this question is not clear for me! \n",
    "#I interpreted it two ways\n",
    "# 1) The probability of a person who gets tested to receive a negative result : You either have the condition \n",
    "# and thats not detected by the app (0.005* 0.05=0.00025) or (adding to) you don't have the condition and the app says\n",
    "# that you don't have it (.995*0.98=0.9751) and **** the total would be = 97.5% ****** \n",
    "# 2) I also interpret it based on the sentence added inside the paranthesis as: The app says the person has the condition \n",
    "#while she does not have it  is: \n",
    "(.995*0.02)/(0.95*0.005+0.995*0.02)"
   ]
  },
  {
   "cell_type": "markdown",
   "metadata": {
    "colab_type": "text",
    "id": "coYh3p2Ahv5k"
   },
   "source": [
    "**Question 13.** What's the probability of a person having the condition if your app gives a positive result for the condition?"
   ]
  },
  {
   "cell_type": "code",
   "execution_count": 82,
   "metadata": {
    "colab": {},
    "colab_type": "code",
    "id": "Q1WVetJwh5oD"
   },
   "outputs": [
    {
     "data": {
      "text/plain": [
       "0.19269776876267747"
      ]
     },
     "execution_count": 82,
     "metadata": {},
     "output_type": "execute_result"
    }
   ],
   "source": [
    "# P(c|+)=P(+|C)P(c)/P(c)=  P(+|C)*P(C)/ P(C)*P(+|C)+P(C-)*P(+|C-) = \n",
    "(0.95*0.005)/(0.95*0.005+0.995*0.02)\n",
    "\n",
    "# Therfore the chance of a person have the condition if the app gives a positive result is ~ 19% and "
   ]
  },
  {
   "cell_type": "markdown",
   "metadata": {
    "colab_type": "text",
    "id": "oiYRZuFBkdlt"
   },
   "source": [
    "**Question 14** Do you think your app is ready to go to market? Why?"
   ]
  },
  {
   "cell_type": "code",
   "execution_count": 83,
   "metadata": {
    "colab": {},
    "colab_type": "code",
    "id": "DMBgi2yRhvvT"
   },
   "outputs": [],
   "source": [
    "# Comparing the answers in question #13 and #12 (2nd interpretation), the app is not ready to go to market\n",
    "#because the cahnce misdiagnsing (someone who does not have the condion but the app gives possive is around 81%)\n",
    "# which is much bigger than the app diagnose the condition correctly (~ 19%). "
   ]
  },
  {
   "cell_type": "markdown",
   "metadata": {
    "colab_type": "text",
    "id": "lDYhYQmjjYXl"
   },
   "source": [
    "**Question 15.** There is a fair coin (one side heads, one side tails) and an unfair coin (both sides tails). You pick one at random, flip it 5 times, and observe that it comes up as tails all five times. What is the chance that you are flipping the unfair coin?"
   ]
  },
  {
   "cell_type": "code",
   "execution_count": 84,
   "metadata": {
    "colab": {},
    "colab_type": "code",
    "id": "SJONeptrjhqZ"
   },
   "outputs": [
    {
     "ename": "SyntaxError",
     "evalue": "invalid syntax (<ipython-input-84-d345df469901>, line 13)",
     "output_type": "error",
     "traceback": [
      "\u001b[0;36m  File \u001b[0;32m\"<ipython-input-84-d345df469901>\"\u001b[0;36m, line \u001b[0;32m13\u001b[0m\n\u001b[0;31m    1/1.03125 = 0.9696 ~ 97%\u001b[0m\n\u001b[0m                       ^\u001b[0m\n\u001b[0;31mSyntaxError\u001b[0m\u001b[0;31m:\u001b[0m invalid syntax\n"
     ]
    }
   ],
   "source": [
    "#P(U)=Probability of Unfair = 50%\n",
    "#P(F)=Probability of Fair =50%\n",
    "#P(T|U)=Probability of Tail=100%\n",
    "#P(H|U)= Probability of Heads=0% \n",
    "#P(U|T)= P(T|U)*P(U)/(P(T|U)*P(U)+P(F)*P(T|F))\n",
    "# The probability of getting tail with fair coin 5 times in a row is P(T|F):\n",
    "#0.5**5=0.03125\n",
    "#the probability of having tail with unfair coin 5 times in a row is P(T|U): \n",
    "#1**5 =1 \n",
    "# The probability of getting tail 5 time in a row in total (either with fair or unfair coin) P(T)=P(T|F)+P(T|U):\n",
    "#1+0.03125=1.03125\n",
    "# The probability of the coin being unfair while getting tail five times is P(U|T)= P(T|U)/P(T):\n",
    "1/1.03125 = 0.9696 ~ 97% "
   ]
  },
  {
   "cell_type": "markdown",
   "metadata": {
    "colab_type": "text",
    "id": "Lw4CAzRoITpV"
   },
   "source": [
    "## Problem Solving"
   ]
  },
  {
   "cell_type": "markdown",
   "metadata": {
    "colab_type": "text",
    "id": "3gl9rz73jiki"
   },
   "source": [
    "**Question 16.** A permutation can be specified by an array P, where P[i] represents the location of the element at i in the permutation. For example, [2, 1, 0] represents the permutation where elements at the index 0 and 2 are swapped.\n",
    "\n",
    "Given an array and a permutation, write a function that applies the permutation to the array. For example, given the array [\"a\", \"b\", \"c\"] and the permutation [2, 1, 0], return [\"c\", \"b\", \"a\"]."
   ]
  },
  {
   "cell_type": "code",
   "execution_count": 85,
   "metadata": {
    "colab": {},
    "colab_type": "code",
    "id": "e1VWzNdnjwj9"
   },
   "outputs": [
    {
     "name": "stdout",
     "output_type": "stream",
     "text": [
      "['c' 'b' 'a']\n"
     ]
    }
   ],
   "source": [
    "def apply_perm(arr, perm):\n",
    "    n= len(arr)\n",
    "    result=np.empty(n, dtype=object)\n",
    "    for i in range(n):\n",
    "        result[i]=arr[perm[i]]\n",
    "    return result \n",
    "A=[\"a\", \"b\", \"c\"]\n",
    "P=[2, 1, 0]\n",
    "print(apply_perm(A, P)) "
   ]
  },
  {
   "cell_type": "markdown",
   "metadata": {
    "colab_type": "text",
    "id": "EAkDbvVUkB47"
   },
   "source": [
    "**Question 17.** Spreadsheets often use this alphabetical encoding for its columns: \"A\", \"B\", \"C\", ..., \"AA\", \"AB\", ..., \"ZZ\", \"AAA\", \"AAB\", ....\n",
    "\n",
    "Write a function that given a column number it returns the alphabetical column id. For example, given 1, return \"A\". Given 27, return \"AA\"."
   ]
  },
  {
   "cell_type": "code",
   "execution_count": 86,
   "metadata": {
    "colab": {},
    "colab_type": "code",
    "id": "gURJYgRAkO60"
   },
   "outputs": [
    {
     "name": "stdout",
     "output_type": "stream",
     "text": [
      "BMJ\n"
     ]
    }
   ],
   "source": [
    "def col_num_to_col_id(n):\n",
    "    string = \"\"\n",
    "    while n > 0:\n",
    "        n, remainder = divmod(n - 1, 26)\n",
    "        string = chr(65 + remainder) + string\n",
    "    return string\n",
    "\n",
    "print(col_num_to_col_id(1700))\n"
   ]
  },
  {
   "cell_type": "markdown",
   "metadata": {
    "colab_type": "text",
    "id": "p09WEyvQkPgW"
   },
   "source": [
    "**Question 18.** Let's define a \"sevenish\" number to be one which is either a power of 7, or the sum of unique powers of 7. The first few sevenish numbers are 1, 7, 8, 49, and so on. Create an algorithm to find the nth sevenish number."
   ]
  },
  {
   "cell_type": "code",
   "execution_count": null,
   "metadata": {
    "colab": {},
    "colab_type": "code",
    "id": "D48pxcMBkYOv"
   },
   "outputs": [],
   "source": [
    "\n",
    "        "
   ]
  },
  {
   "cell_type": "markdown",
   "metadata": {
    "colab_type": "text",
    "id": "JQzcgm59qu6L"
   },
   "source": [
    "###Gradient Descent \n",
    "\n",
    "**Question 19.** Using numpy implement a version of gradient descent to find the optimal slope and y-intercept for the linear relationship for the data in ML_data.csv. \n",
    "\n",
    "You can use the following numpy command to import the data:\n",
    "```\n",
    "np.genfromtxt(\"ML_data.csv\", delimiter=\",\")\n",
    "```\n",
    "\n",
    "After running, your code should print out the following line:\n",
    "```\n",
    "\"Best Slope found: {}, Best y-intercept found: {} Number of Iterations ran: {}.\"\n",
    "```\n",
    "\n",
    "Use the code cell below to write your answer. You may create additional cells to organize your work if desired."
   ]
  },
  {
   "cell_type": "code",
   "execution_count": 109,
   "metadata": {
    "colab": {},
    "colab_type": "code",
    "id": "2RYH5x9DuEhf"
   },
   "outputs": [
    {
     "name": "stdout",
     "output_type": "stream",
     "text": [
      "            x           y\n",
      "0   53.426804   68.777596\n",
      "1   61.530358   62.562382\n",
      "2   47.475640   71.546632\n",
      "3   59.813208   87.230925\n",
      "4   55.142188   78.211518\n",
      "5   52.211797   79.641973\n",
      "6   39.299567   59.171489\n",
      "7   48.105042   75.331242\n",
      "8   52.550014   71.300880\n",
      "9   45.419730   55.165677\n",
      "10  54.351635   82.478847\n",
      "11  44.164049   62.008923\n",
      "12  58.168471   75.392870\n",
      "13  56.727208   81.436192\n",
      "14  48.955889   60.723602\n",
      "15  44.687196   82.892504\n",
      "16  60.297327   97.379897\n",
      "17  45.618644   48.847153\n",
      "18  38.816818   56.877213\n",
      "19  66.189817   83.878565\n",
      "20  65.416052  118.591217\n",
      "21  47.481209   57.251819\n",
      "22  41.575643   51.391744\n",
      "23  51.845187   75.380652\n",
      "24  59.370822   74.765564\n",
      "25  57.310003   95.455053\n",
      "26  63.615561   95.229366\n",
      "27  46.737619   79.052406\n",
      "28  50.556760   83.432071\n",
      "29  52.223996   63.358790\n",
      "..        ...         ...\n",
      "69  31.588117   50.392670\n",
      "70  53.660932   63.642399\n",
      "71  46.682229   72.247251\n",
      "72  43.107820   57.812513\n",
      "73  70.346076  104.257102\n",
      "74  44.492856   86.642020\n",
      "75  57.504533   91.486778\n",
      "76  36.930077   55.231661\n",
      "77  55.805733   79.550437\n",
      "78  38.954769   44.847124\n",
      "79  56.901215   80.207523\n",
      "80  56.868901   83.142750\n",
      "81  34.333125   55.723489\n",
      "82  59.049741   77.634183\n",
      "83  57.788224   99.051415\n",
      "84  54.282329   79.120646\n",
      "85  51.088720   69.588898\n",
      "86  50.282836   69.510503\n",
      "87  44.211742   73.687564\n",
      "88  38.005488   61.366905\n",
      "89  32.940480   67.170656\n",
      "90  53.691640   85.668203\n",
      "91  68.765734  114.853871\n",
      "92  46.230966   90.123572\n",
      "93  68.319361   97.919821\n",
      "94  50.030174   81.536991\n",
      "95  49.239765   72.111832\n",
      "96  50.039576   85.232007\n",
      "97  48.149859   66.224958\n",
      "98  25.128485   53.454394\n",
      "\n",
      "[99 rows x 2 columns]\n"
     ]
    }
   ],
   "source": [
    "import os \n",
    "ML = pd.read_csv(\"ML_data.csv\")\n",
    "ML_new=ML.rename(columns={'32.502345269453031':'x', '31.70700584656992':'y'})\n",
    "print(ML_new)\n",
    "\n"
   ]
  },
  {
   "cell_type": "code",
   "execution_count": 116,
   "metadata": {},
   "outputs": [
    {
     "name": "stdout",
     "output_type": "stream",
     "text": [
      "1.4796491688889395 0.10148121494753726\n"
     ]
    },
    {
     "data": {
      "image/png": "[encoded data removed]",
      "text/plain": [
       "<matplotlib.figure.Figure at 0x1516d683c8>"
      ]
     },
     "metadata": {},
     "output_type": "display_data"
    }
   ],
   "source": [
    "# fitting a line y_pred=m*x_pred+c\n",
    "\n",
    "m= 0 \n",
    "c=0 \n",
    "\n",
    "#learninh rate L:\n",
    "L=0.0001 \n",
    "#Number of iteration:\n",
    "epochs =1000\n",
    "\n",
    "n=float(len(ML_new['x']))\n",
    "\n",
    "for i in range (epochs):\n",
    "    y_pred = m*ML_new['x']+c \n",
    "    #derivative with respect to m\n",
    "    D_m= (-2/n) *sum(ML_new['x']*(ML_new['y']-y_pred))\n",
    "    #derivative with respect to c\n",
    "    D_c=(-2/n)*sum(ML_new['y']-y_pred) \n",
    "    m=m-L*D_m\n",
    "    c=c-L*D_c\n",
    "print(m, c)\n",
    "\n",
    "y_pred=m*ML_new['x']+c\n",
    "plt.scatter(ML_new['x'], ML_new['y'])\n",
    "#ML_new.plot(x='x', y='y', style='o')\n",
    "plt.plot([min(ML_new['x']), max(ML_new['x'])], [min(y_pred), max(y_pred)], color='red')\n",
    "plt.show()         \n"
   ]
  },
  {
   "cell_type": "code",
   "execution_count": 114,
   "metadata": {},
   "outputs": [
    {
     "ename": "IndentationError",
     "evalue": "unexpected indent (<ipython-input-114-70bcb0f63f98>, line 2)",
     "output_type": "error",
     "traceback": [
      "\u001b[0;36m  File \u001b[0;32m\"<ipython-input-114-70bcb0f63f98>\"\u001b[0;36m, line \u001b[0;32m2\u001b[0m\n\u001b[0;31m    N = len('A')\u001b[0m\n\u001b[0m    ^\u001b[0m\n\u001b[0;31mIndentationError\u001b[0m\u001b[0;31m:\u001b[0m unexpected indent\n"
     ]
    }
   ],
   "source": [
    "#def cost_function(A,B, m, b):\n",
    "    N = len('A')\n",
    "    total_error = 0.0\n",
    "    for i in range(N):\n",
    "        total_error += ('A'[i] - (m*'B'[i] + b))**2\n",
    "    return total_error / N\n",
    "\n",
    "\n",
    "def update_weights(A, B, m, b, learning_rate):\n",
    "    m_deriv = 0\n",
    "    b_deriv = 0\n",
    "    N = len('A')\n",
    "\n",
    "    for i in range(N):\n",
    "        # Calculate partial derivatives\n",
    "        # -2x(y - (mx + b))\n",
    "        m_deriv += -2*'A'[i] * ('B'[i] - (m*'A'[i] + b))\n",
    "\n",
    "        # -2(y - (mx + b))\n",
    "        b_deriv += -2*('B'[i] - (m*'A'[i] + b))\n",
    "\n",
    "    # We subtract because the derivatives point in direction of steepest ascent\n",
    "    m -= (m_deriv / N) * learning_rate\n",
    "    b -= (b_deriv / N) * learning_rate\n",
    "\n",
    "    return m, b\n",
    "\n",
    "\n",
    "def train(A, B, m, b, learning_rate, iters):\n",
    "    cost_history = []\n",
    "\n",
    "    for i in range(iters):\n",
    "        m,b = update_weights('A', 'B', m, b, learning_rate)\n",
    "\n",
    "        #Calculate cost for auditing purposes\n",
    "        cost = cost_function('A', 'B', m, b)\n",
    "        cost_history.append(cost)\n",
    "\n",
    "        # Log Progress\n",
    "    return m, b, cost_history\n",
    "print 'iter={:d}    m={:.2f}    b={:.4f}    cost={:.2}'  format(i, m, b, cost)\n"
   ]
  },
  {
   "cell_type": "code",
   "execution_count": 95,
   "metadata": {},
   "outputs": [
    {
     "data": {
      "text/plain": [
       "<matplotlib.axes._subplots.AxesSubplot at 0x115a1e940>"
      ]
     },
     "execution_count": 95,
     "metadata": {},
     "output_type": "execute_result"
    },
    {
     "data": {
      "image/png": "[encoded data removed]",
      "text/plain": [
       "<matplotlib.figure.Figure at 0x1516d88ba8>"
      ]
     },
     "metadata": {},
     "output_type": "display_data"
    }
   ],
   "source": [
    "ML_new.plot(x='x', y='y', style='o')"
   ]
  },
  {
   "cell_type": "markdown",
   "metadata": {
    "colab_type": "text",
    "id": "ZZDLYqyLkutT"
   },
   "source": [
    "**Question 20** Given a number in Roman numeral format, write a function to convert it to decimal.\n",
    "\n",
    "The values of Roman numerals are as follows:\n",
    "\n",
    "{\n",
    "\n",
    "    'M': 1000,\n",
    "    'D': 500,\n",
    "    'C': 100,\n",
    "    'L': 50,\n",
    "    'X': 10,\n",
    "    'V': 5,\n",
    "    'I': 1\n",
    "}"
   ]
  },
  {
   "cell_type": "code",
   "execution_count": 92,
   "metadata": {
    "colab": {},
    "colab_type": "code",
    "id": "NG9A2AM2lLVB"
   },
   "outputs": [
    {
     "name": "stdout",
     "output_type": "stream",
     "text": [
      "1004\n"
     ]
    }
   ],
   "source": [
    "def from_roman(num):\n",
    "    roman_numerals = {'I':1, 'V':5, 'X':10, 'L':50, 'C':100, 'D':500, 'M':1000}\n",
    "    result = 0\n",
    "    for i,c in enumerate(num):\n",
    "        if (i+1) == len(num) or roman_numerals[c] >= roman_numerals[num[i+1]]:\n",
    "            result += roman_numerals[c]\n",
    "        else:\n",
    "            result -= roman_numerals[c]\n",
    "    return result\n",
    "print(from_roman('MIV'))"
   ]
  },
  {
   "cell_type": "markdown",
   "metadata": {
    "colab_type": "text",
    "id": "sGbNHFyXUS1-"
   },
   "source": [
    "###N Queens With a Twist\n",
    "Given an NxN chess board with N queens randomly placed on the board. \n",
    "\n",
    "**Question 21.** Write a program that return the minimum number of legal moves required to reposition the queens so that no queen is threatening any other queen.\n",
    "\n",
    "A legal move constitutes moving a single queen any number of spaces horizontally, vertically or diagonally. \n",
    "\n",
    "A queen cannot \"jump\" over another queen.\n",
    "\n",
    "No space may hold more than 1 queen at any given time."
   ]
  },
  {
   "cell_type": "code",
   "execution_count": 0,
   "metadata": {
    "colab": {},
    "colab_type": "code",
    "id": "q2Bhv0O3WGBO"
   },
   "outputs": [],
   "source": []
  }
 ],
 "metadata": {
  "colab": {
   "collapsed_sections": [],
   "name": "Cohort 2 questionnaire",
   "provenance": []
  },
  "kernelspec": {
   "display_name": "Python 3",
   "language": "python",
   "name": "python3"
  },
  "language_info": {
   "codemirror_mode": {
    "name": "ipython",
    "version": 3
   },
   "file_extension": ".py",
   "mimetype": "text/x-python",
   "name": "python",
   "nbconvert_exporter": "python",
   "pygments_lexer": "ipython3",
   "version": "3.6.4"
  }
 },
 "nbformat": 4,
 "nbformat_minor": 1
}
